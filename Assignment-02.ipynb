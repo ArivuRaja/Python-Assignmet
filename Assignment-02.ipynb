{
 "cells": [
  {
   "cell_type": "code",
   "execution_count": 2,
   "metadata": {},
   "outputs": [
    {
     "name": "stdout",
     "output_type": "stream",
     "text": [
      "<class 'list'>\n",
      "The original list is : [1, 2, [], 3, [], [], 7]\n",
      "List after empty list removal : [1, 2, 3, 7]\n"
     ]
    }
   ],
   "source": [
    "#Write a Python program to remove empty List from List.\n",
    "list1 = [1,2,[],3,[],[],7] \n",
    "print(type(list1))\n",
    "print(\"The original list is : \" + str(list1)) \n",
    "res = [ele for ele in list1 if ele != []] \n",
    "print (\"List after empty list removal : \" + str(res))"
   ]
  },
  {
   "cell_type": "code",
   "execution_count": 3,
   "metadata": {},
   "outputs": [
    {
     "name": "stdout",
     "output_type": "stream",
     "text": [
      "Letsupgrade our life with python ,to upgrade lifestyle\n"
     ]
    }
   ],
   "source": [
    "#Write a Python program to remove all duplicates words from a given sentence\n",
    "s = \"Letsupgrade our life with python ,to upgrade our lifestyle\"\n",
    "l = s.split() \n",
    "k = [] \n",
    "for i in l:\n",
    "    if (s.count(i)>1 and (i not in k)or s.count(i)==1): \n",
    "        k.append(i) \n",
    "print(' '.join(k)) \n"
   ]
  },
  {
   "cell_type": "code",
   "execution_count": 4,
   "metadata": {},
   "outputs": [
    {
     "name": "stdout",
     "output_type": "stream",
     "text": [
      "Count of e in Grade Upgrade Letsupgrade  is : 2\n"
     ]
    }
   ],
   "source": [
    "# Write a Python program to find all occurrences of a character in the given string\n",
    "\n",
    "x = \"GradeUpgradeLetsupgrade\"\n",
    "count = 0\n",
    "for i in x: \n",
    "    if i == 'g': \n",
    "        count = count + 1\n",
    "print (\"Count of e in Grade Upgrade Letsupgrade  is : \"+ str(count)) \n"
   ]
  },
  {
   "cell_type": "code",
   "execution_count": null,
   "metadata": {},
   "outputs": [],
   "source": []
  }
 ],
 "metadata": {
  "kernelspec": {
   "display_name": "Python 3",
   "language": "python",
   "name": "python3"
  },
  "language_info": {
   "codemirror_mode": {
    "name": "ipython",
    "version": 3
   },
   "file_extension": ".py",
   "mimetype": "text/x-python",
   "name": "python",
   "nbconvert_exporter": "python",
   "pygments_lexer": "ipython3",
   "version": "3.6.11"
  }
 },
 "nbformat": 4,
 "nbformat_minor": 4
}
